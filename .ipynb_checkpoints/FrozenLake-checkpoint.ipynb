{
 "cells": [
  {
   "cell_type": "code",
   "execution_count": 1,
   "metadata": {},
   "outputs": [
    {
     "name": "stdout",
     "output_type": "stream",
     "text": [
      "Requirement already satisfied: pyvirtualdisplay in /home/t/anaconda3/lib/python3.7/site-packages (0.2.4)\n",
      "Requirement already satisfied: EasyProcess in /home/t/anaconda3/lib/python3.7/site-packages (from pyvirtualdisplay) (0.2.7)\n",
      "E: Could not open lock file /var/lib/dpkg/lock-frontend - open (13: Permission denied)\n",
      "E: Unable to acquire the dpkg frontend lock (/var/lib/dpkg/lock-frontend), are you root?\n"
     ]
    }
   ],
   "source": [
    "#Dependencies: Gym, Numpy, Random\n",
    "#Installing Gym in Linux using conda https://anaconda.org/akode/gym\n",
    "\n",
    "#Install the dependencies using\n",
    "!python -m pip install pyvirtualdisplay\n",
    "!apt-get install xvfb\n",
    "!pip install gym pyvirtualdisplay > /dev/null 2>&1\n",
    "!apt-get install -y xvfb python-opengl ffmpeg > /dev/null 2>&1"
   ]
  },
  {
   "cell_type": "code",
   "execution_count": 18,
   "metadata": {},
   "outputs": [],
   "source": [
    "import gym\n",
    "import sys\n",
    "import itertools\n",
    "import numpy as np\n",
    "import random\n",
    "\n",
    "import matplotlib.pyplot as plt\n",
    "%matplotlib inline   \n",
    "\n",
    "#This will lead to static images of your plot embedded in the notebook"
   ]
  },
  {
   "cell_type": "code",
   "execution_count": 9,
   "metadata": {},
   "outputs": [
    {
     "name": "stdout",
     "output_type": "stream",
     "text": [
      "observation space: Discrete(16)\n",
      "action space: Discrete(4)\n"
     ]
    }
   ],
   "source": [
    "# Create  environment of Frozen-Lake-v0\n",
    "env = gym.make('FrozenLake-v0')\n",
    "print('observation space:', env.observation_space)\n",
    "print('action space:', env.action_space)\n",
    "# Every environment comes with an action_space and an observation_space. These attributes are of type Space\n",
    "#The Discrete space allows a fixed range of non-negative numbers, so in this case, observations are 16 positive\n",
    "#numbers, actions are 4 positive numbers \n"
   ]
  },
  {
   "cell_type": "code",
   "execution_count": 19,
   "metadata": {},
   "outputs": [
    {
     "name": "stdout",
     "output_type": "stream",
     "text": [
      "initial observation: 0\n",
      "random action: 2\n",
      "next observation: 0\n",
      "reward: 0.0\n",
      "is_finished: False\n",
      "0.353898273377075\n"
     ]
    }
   ],
   "source": [
    "observation = env.reset()\n",
    "# env.render(mode='rgb_array', close=True)\n",
    "print('initial observation:', observation)\n",
    "\n",
    "action = env.action_space.sample() # Select random action\n",
    "print('random action:', action)\n",
    "\n",
    "observation, reward, is_finished, info = env.step(action)  \n",
    "#used to take action and observe reward & next state\n",
    "#observation: a next observation\n",
    "#reaward: a scalar reward\n",
    "#is_finished: a boolean value indicating whether the current state is terminal or not\n",
    "#info: additional information\n",
    "\n",
    "print('next observation:', observation)\n",
    "print('reward:', reward)\n",
    "print('is_finished:', is_finished)\n",
    "print(random.random())"
   ]
  },
  {
   "cell_type": "code",
   "execution_count": 23,
   "metadata": {},
   "outputs": [],
   "source": [
    "def q_learning(env, num_episodes, alpha=0.85, discount_factor=0.99):\n",
    "    \"\"\"\n",
    "    Q learning algorithm, off-polics TD control. Finds optimal gready policies\n",
    "    Args:\n",
    "    - env: Given environment to solve\n",
    "    - num_episodes: Number of episodes to learn\n",
    "    - alpha: learning rate\n",
    "    - discount factor: weight/importance given to future rewards\n",
    "    - epsilon: probability of taking random action. \n",
    "             We are using decaying epsilon, \n",
    "             i.e high randomness at beginning and low towards end\n",
    "    Returns:\n",
    "    - Optimal Q\n",
    "    \"\"\"\n",
    "     \n",
    "    # decaying epsilon, i.e we will divide num of episodes passed\n",
    "    epsilon = 1.0\n",
    "\n",
    "    # create a numpy array filled with zeros \n",
    "    # rows = number of observations & cols = possible actions\n",
    "\n",
    "    action_size = env.action_space.n\n",
    "    print(\"Action size \", action_size)\n",
    "\n",
    "    state_size = env.observation_space.n\n",
    "    print(\"State size \", state_size)\n",
    "    \n",
    "    q_table = np.zeros([env.observation_space.n, env.action_space.n]) \n",
    "    print(q_table)\n",
    "    \n",
    "    for i_episode in range(num_episodes):\n",
    "            # reset the env\n",
    "            state = env.reset()\n",
    "            # itertools.count() has similar to 'while True:'\n",
    "            for t in itertools.count():\n",
    "                # generate a random num between 0 and 1 e.g. 0.35, 0.73 etc..\n",
    "                # if the generated num is smaller than epsilon, we follow exploration policy \n",
    "                if random.uniform(0, 1) <epsilon:\n",
    "                    action = env.step(env.action_space.sample())   \n",
    "                    # select a random action from set of all actions\n",
    "                else:\n",
    "                    action = np.argmax(q_table[state])\n",
    "                    # if the generated num is greater than epsilon, we follow exploitation policy\n",
    "                    # select an action with highest value for current state\n",
    "                \n",
    "                next_state, reward, is_finished, info = env.step(action)\n",
    "                # apply selected action, collect values for next_state and reward\n",
    "                old_value = q_table[state, action]\n",
    "                next_max  = np.max(q_table[next_state])\n",
    "                new_value = old_value+alpha*(reward+(discount_factor*next_max)-old_value)\n",
    "                # Update the Q table, alpha is the learning rate\n",
    "                q_table[state,action] = new_value\n",
    "                \n",
    "                # break if done, i.e. if end of this episode\n",
    "                if done:\n",
    "                    break\n",
    "                # make the next_state into current state as we go for next iteration\n",
    "                state = next_state\n",
    "            # gradualy decay the epsilon\n",
    "            if epsilon > 0.1:\n",
    "                epsilon -= 1.0/num_episodes\n",
    "    \n",
    "    return Q    # return optimal Q"
   ]
  },
  {
   "cell_type": "code",
   "execution_count": 24,
   "metadata": {},
   "outputs": [],
   "source": [
    "def test_algorithm(env, Q):\n",
    "    \"\"\"\n",
    "    Test script for Q function\n",
    "    Args:\n",
    "    - env: Given environment to test Q function\n",
    "    - Q: Q function to verified\n",
    "    Returns:\n",
    "    - Total rewards for one episode\n",
    "    \"\"\"\n",
    "    \n",
    "    state = env.reset()\n",
    "    total_reward = 0\n",
    "    \n",
    "    while True:\n",
    "        # selection the action with highest values i.e. best action\n",
    "        action = np.argmax(Q[state, :])\n",
    "        # apply selected action\n",
    "        next_state, reward, done, _ = env.step(action)\n",
    "        # render environment\n",
    "        env.render()\n",
    "        # calculate total reward\n",
    "        total_reward += reward\n",
    "        \n",
    "        if done:\n",
    "            print(total_reward)\n",
    "            break\n",
    "            \n",
    "        state = next_state\n",
    "    \n",
    "    return total_reward "
   ]
  },
  {
   "cell_type": "code",
   "execution_count": 22,
   "metadata": {},
   "outputs": [
    {
     "name": "stdout",
     "output_type": "stream",
     "text": [
      "Action size  4\n",
      "State size  16\n",
      "[[0. 0. 0. 0.]\n",
      " [0. 0. 0. 0.]\n",
      " [0. 0. 0. 0.]\n",
      " [0. 0. 0. 0.]\n",
      " [0. 0. 0. 0.]\n",
      " [0. 0. 0. 0.]\n",
      " [0. 0. 0. 0.]\n",
      " [0. 0. 0. 0.]\n",
      " [0. 0. 0. 0.]\n",
      " [0. 0. 0. 0.]\n",
      " [0. 0. 0. 0.]\n",
      " [0. 0. 0. 0.]\n",
      " [0. 0. 0. 0.]\n",
      " [0. 0. 0. 0.]\n",
      " [0. 0. 0. 0.]\n",
      " [0. 0. 0. 0.]]\n"
     ]
    },
    {
     "ename": "UnboundLocalError",
     "evalue": "local variable 'random' referenced before assignment",
     "output_type": "error",
     "traceback": [
      "\u001b[0;31m---------------------------------------------------------------------------\u001b[0m",
      "\u001b[0;31mUnboundLocalError\u001b[0m                         Traceback (most recent call last)",
      "\u001b[0;32m<ipython-input-22-7c2193ef0f03>\u001b[0m in \u001b[0;36m<module>\u001b[0;34m\u001b[0m\n\u001b[0;32m----> 1\u001b[0;31m \u001b[0mQ\u001b[0m \u001b[0;34m=\u001b[0m \u001b[0mq_learning\u001b[0m\u001b[0;34m(\u001b[0m\u001b[0menv\u001b[0m\u001b[0;34m,\u001b[0m \u001b[0;36m20000\u001b[0m\u001b[0;34m)\u001b[0m\u001b[0;34m\u001b[0m\u001b[0;34m\u001b[0m\u001b[0m\n\u001b[0m",
      "\u001b[0;32m<ipython-input-20-a93d7ea3d91b>\u001b[0m in \u001b[0;36mq_learning\u001b[0;34m(env, num_episodes, alpha, discount_factor)\u001b[0m\n\u001b[1;32m     34\u001b[0m             \u001b[0;31m# itertools.count() has similar to 'while True:'\u001b[0m\u001b[0;34m\u001b[0m\u001b[0;34m\u001b[0m\u001b[0;34m\u001b[0m\u001b[0m\n\u001b[1;32m     35\u001b[0m             \u001b[0;32mfor\u001b[0m \u001b[0mt\u001b[0m \u001b[0;32min\u001b[0m \u001b[0mitertools\u001b[0m\u001b[0;34m.\u001b[0m\u001b[0mcount\u001b[0m\u001b[0;34m(\u001b[0m\u001b[0;34m)\u001b[0m\u001b[0;34m:\u001b[0m\u001b[0;34m\u001b[0m\u001b[0;34m\u001b[0m\u001b[0m\n\u001b[0;32m---> 36\u001b[0;31m                 \u001b[0mrandom\u001b[0m \u001b[0;34m=\u001b[0m \u001b[0mrandom\u001b[0m\u001b[0;34m.\u001b[0m\u001b[0mrandom\u001b[0m\u001b[0;34m(\u001b[0m\u001b[0;34m)\u001b[0m\u001b[0;34m\u001b[0m\u001b[0;34m\u001b[0m\u001b[0m\n\u001b[0m\u001b[1;32m     37\u001b[0m                 \u001b[0;31m# generate a random num between 0 and 1 e.g. 0.35, 0.73 etc..\u001b[0m\u001b[0;34m\u001b[0m\u001b[0;34m\u001b[0m\u001b[0;34m\u001b[0m\u001b[0m\n\u001b[1;32m     38\u001b[0m                 \u001b[0;31m# if the generated num is smaller than epsilon, we follow exploration policy\u001b[0m\u001b[0;34m\u001b[0m\u001b[0;34m\u001b[0m\u001b[0;34m\u001b[0m\u001b[0m\n",
      "\u001b[0;31mUnboundLocalError\u001b[0m: local variable 'random' referenced before assignment"
     ]
    }
   ],
   "source": [
    "Q = q_learning(env, 20000)"
   ]
  },
  {
   "cell_type": "code",
   "execution_count": null,
   "metadata": {},
   "outputs": [],
   "source": []
  }
 ],
 "metadata": {
  "kernelspec": {
   "display_name": "Python 3",
   "language": "python",
   "name": "python3"
  },
  "language_info": {
   "codemirror_mode": {
    "name": "ipython",
    "version": 3
   },
   "file_extension": ".py",
   "mimetype": "text/x-python",
   "name": "python",
   "nbconvert_exporter": "python",
   "pygments_lexer": "ipython3",
   "version": "3.7.3"
  }
 },
 "nbformat": 4,
 "nbformat_minor": 2
}
